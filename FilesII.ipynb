{
 "cells": [
  {
   "attachments": {
    "FileHandleMethods.png": {
     "image/png": "[encoded data removed]"
    }
   },
   "cell_type": "markdown",
   "metadata": {},
   "source": [
    "__  In this notebook, we will look at how to read a text file.The file handle returned when we use the open() method is an object of the `_io.TextIOWrapper` class.\n",
    "The table below contains some of the more commonly used methods in this class.__\n",
    "\n",
    "![FileHandleMethods.png](attachment:FileHandleMethods.png)"
   ]
  },
  {
   "cell_type": "code",
   "execution_count": 1,
   "metadata": {},
   "outputs": [
    {
     "name": "stdout",
     "output_type": "stream",
     "text": [
      "This is line 0\n",
      "This is line 1\n",
      "This is line 2\n",
      "This is line 3\n",
      "This is line 4\n",
      "This is line 5\n",
      "This is line 6\n",
      "This is line 7\n",
      "This is line 8\n",
      "This is line 9\n",
      "This is line 10\n",
      "\n"
     ]
    }
   ],
   "source": [
    "'''\n",
    "In this cell we look at the syntax for reading a text file.  \n",
    "To read from a file, we use the mode value 'r'.  Note that this is the default value for the open() function and can \n",
    "therefore be omitted.  If the file does not exist, the program will generate errors and halt.  \n",
    "It is therefore a good idea to enclose the syntax within try/catch blocks (which we will discuss later)\n",
    "'''\n",
    "f = open('out.txt', 'r') #open for read\n",
    "\n",
    "'''\n",
    "The read() method is then used to read the contents of the whole file.\n",
    "'''\n",
    "file_data = f.read()\n",
    "print(file_data)\n",
    "   \n",
    "'''\n",
    "To close the file: use the close() method\n",
    "'''\n",
    "f.close()"
   ]
  },
  {
   "cell_type": "code",
   "execution_count": 2,
   "metadata": {},
   "outputs": [
    {
     "name": "stdout",
     "output_type": "stream",
     "text": [
      "This is line 0\n",
      "This \n"
     ]
    }
   ],
   "source": [
    "'''\n",
    "The read() method has an optional 'num' parameter.  If this value is provided, the read() method reads the \n",
    "specified number of characters.  Otherwise, as seen in the example above the entire file is read.\n",
    "'''\n",
    "\n",
    "f = open('out.txt', 'r')\n",
    "file_data = f.read(20)\n",
    "print(file_data)\n",
    "f.close()"
   ]
  },
  {
   "cell_type": "code",
   "execution_count": 3,
   "metadata": {},
   "outputs": [
    {
     "name": "stdout",
     "output_type": "stream",
     "text": [
      "After reading 20 characters: \n",
      "This is line 0\n",
      "This \n",
      "\n",
      "Current position of the file pointer: 20\n",
      "position of the file pointer after the seek() method 10 \n",
      "\n",
      "ne 0\n",
      "This is line 1\n",
      "This is line 2\n",
      "This is line 3\n",
      "This is line 4\n",
      "This is line 5\n",
      "This is line 6\n",
      "This is line 7\n",
      "This is line 8\n",
      "This is line 9\n",
      "This is line 10\n",
      "\n"
     ]
    }
   ],
   "source": [
    "'''\n",
    "The read() method has an optional 'num' parameter.  If this value is provided, the read() method reads the \n",
    "specified number of characters.  Otherwise, as seen in the example above the entire file is read.\n",
    "'''\n",
    "\n",
    "f = open('out.txt', 'r')\n",
    "file_data = f.read(20)\n",
    "\n",
    "#Print out what has been read so far and then print a blank line\n",
    "print('After reading 20 characters: \\n', file_data + '\\n', sep='') \n",
    "\n",
    "print('Current position of the file pointer:',f.tell())  # Returns the current position of the file pointer\n",
    "\n",
    "'''\n",
    "The seek() method resets the file pointer to the position indicated by the first argument.  \n",
    "The second argument can be: 0, 1, or 2.\n",
    "If the second argument is 0, the position is relative to the start of the file\n",
    "If the second argument is 1, the position is relative to where the pointer is currently located\n",
    "If the second argument is 2, the first argument must be zero and the pointer points to the end of the file.\n",
    "However only the default value of 0 is valid for text files.  This is the only one we will consider in this course.\n",
    "\n",
    "'''\n",
    "f.seek(10,0) # This will reset the pointer to the 11th character from the start\n",
    "print('position of the file pointer after the seek() method', f.tell(), '\\n')\n",
    "\n",
    "#Contents of the rest of the file after repositioning the pointer\n",
    "print(f.read()) \n",
    "f.close()"
   ]
  },
  {
   "cell_type": "code",
   "execution_count": null,
   "metadata": {
    "collapsed": true
   },
   "outputs": [],
   "source": [
    "'''\n",
    "The read() method used above reads the entire file as one unit and hence each line in the file cannot be easily \n",
    "processed separately.\n",
    "If you want to read and process each line separately, you can do that by using the for loop to iterate through the \n",
    "file object.  Note that for this 'for' loop to work as desired, the data should have been written to the file  with\n",
    "each line ending with a newline character to signal the end of the line.\n",
    "'''\n",
    "\n",
    "f = open('out.txt')  # Note that I have omitted the mode argument since the default is anyway 'r'\n",
    "\n",
    "for line in f:\n",
    "    print(line)\n",
    "\n",
    "f.close()"
   ]
  }
 ],
 "metadata": {
  "kernelspec": {
   "display_name": "Python 3",
   "language": "python",
   "name": "python3"
  },
  "language_info": {
   "codemirror_mode": {
    "name": "ipython",
    "version": 3
   },
   "file_extension": ".py",
   "mimetype": "text/x-python",
   "name": "python",
   "nbconvert_exporter": "python",
   "pygments_lexer": "ipython3",
   "version": "3.7.1"
  }
 },
 "nbformat": 4,
 "nbformat_minor": 2
}
