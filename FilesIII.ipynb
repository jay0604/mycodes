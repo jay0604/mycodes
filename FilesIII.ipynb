{
 "cells": [
  {
   "cell_type": "code",
   "execution_count": null,
   "metadata": {
    "collapsed": true
   },
   "outputs": [],
   "source": [
    "'''\n",
    "In this notebook we look at another mode when using text files.  The 'append' mode.\n",
    "To add new lines of data to an existing file, you must open it for append by setting the mode to 'a'.  \n",
    "If you open an existing file with 'a' mode, the file will not be overwritten, but rather,\n",
    "data will be added to the end of the file.  This is unlike the case when you open a file with 'w' mode. \n",
    "When the mode is 'w', if the file already exists, the data will be overwritten by new data.\n",
    "Aside from this difference, writing to a file with mode = 'a' is no different than writing to a file with mode = 'w'\n",
    "'''"
   ]
  },
  {
   "cell_type": "code",
   "execution_count": null,
   "metadata": {},
   "outputs": [],
   "source": [
    "for i in range(25,31):\n",
    "    pri"
   ]
  },
  {
   "cell_type": "code",
   "execution_count": null,
   "metadata": {},
   "outputs": [],
   "source": [
    "'''\n",
    "We will first take a look at 'out.txt' to see what it contains. \n",
    "Recall that we can process each line separately, using the\n",
    "'for' construct only if the input file was written with a newline character at th end of each line.\n",
    "\n",
    "By default, the print statement also adds a newline character \n",
    "at the end of each print statement.  Which is why we see the blank line between each pair of lines.  If we do not want that\n",
    "we can edit the print statement, setting end=''\n",
    "'''\n",
    "f = open('out.txt')\n",
    "for i in f:\n",
    "    print(i)\n",
    "f.close()"
   ]
  },
  {
   "cell_type": "code",
   "execution_count": null,
   "metadata": {
    "collapsed": true
   },
   "outputs": [],
   "source": [
    "'''\n",
    "Next, we open the same file ('out.txt') in append mode and write a few more lines to it.\n",
    "'''\n",
    "f = open('out.txt', 'a')\n",
    "for i in range(25, 31):\n",
    "    f.write('This is line ' + str(i) + '\\n')\n",
    "f.close()"
   ]
  },
  {
   "cell_type": "code",
   "execution_count": null,
   "metadata": {},
   "outputs": [],
   "source": [
    "'''\n",
    "Finally, we test out the code written above by reading the file.    \n",
    "I have changed the 'end' in the print statement, so that the extra blank line will not be printed after each line.\n",
    "\n",
    "Notice that the new lines that have now been appended to 'out.txt'.\n",
    "'''\n",
    "f = open('out.txt')\n",
    "for i in f:\n",
    "    print(i, end = '')\n",
    "f.close()"
   ]
  },
  {
   "cell_type": "code",
   "execution_count": null,
   "metadata": {},
   "outputs": [],
   "source": [
    "f = open('out.txt', 'w')\n",
    "for i in range(11):\n",
    "    f.write('This is line ' + str(i)) # Note the newline character\n",
    "f.close()\n",
    "\n",
    "f = open('out.txt')\n",
    "count = 0\n",
    "for i in f:\n",
    "    count += 1\n",
    "    print(i)\n",
    "f.close()\n",
    "print('count = ', count)\n",
    "print('done')"
   ]
  }
 ],
 "metadata": {
  "kernelspec": {
   "display_name": "Python 3",
   "language": "python",
   "name": "python3"
  },
  "language_info": {
   "codemirror_mode": {
    "name": "ipython",
    "version": 3
   },
   "file_extension": ".py",
   "mimetype": "text/x-python",
   "name": "python",
   "nbconvert_exporter": "python",
   "pygments_lexer": "ipython3",
   "version": "3.7.1"
  }
 },
 "nbformat": 4,
 "nbformat_minor": 2
}
