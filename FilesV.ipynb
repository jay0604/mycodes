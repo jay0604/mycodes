{
 "cells": [
  {
   "cell_type": "code",
   "execution_count": 1,
   "metadata": {},
   "outputs": [
    {
     "name": "stdout",
     "output_type": "stream",
     "text": [
      "The Tour du Mont Blanc or TMB is one of the most popular long-distance walks in Europe. \n",
      "It circles the Mont Blanc massif, covering a distance of roughly 170 kilometres (110 mi) with 10 kilometres (6.2 mi) of ascent/descent and passes through parts of Switzerland, Italyand France.\n",
      "It is considered one of the classic long-distance hiking trails. \n",
      "The circular route is normally walked in a counter-clockwise direction in 11 days. \n",
      "It is also the route of an annual mountain marathon in which the winner normally covers the entire distance in less than 24 hours. \n",
      "Usual start points are Les Houches in the Chamonix valley or Les Contamines in the Montjoie valley (in France), Courmayeur from the Italian side, and either Champex or a point near Martigny in Switzerland. \n",
      "The route passes through seven valleys around the Mont-Blanc massif, an anti-clockwise start in Chamonix would lead through the Chamonix (or Arve) valley, then Montjoie, Vallee des Glaciers, Italian Val Veni, Val Ferret, Swiss Val Ferret, and either the Arpette or Trient valley in Switzerland, dependent on the route chosen.\n"
     ]
    }
   ],
   "source": [
    "'''\n",
    "In this notebook we introduce the with/as construct.\n",
    "Since it is important to always close a file after opening it, Python offers a simpler way to ensure that the file is\n",
    "automatically closed when finished\n",
    "'''\n",
    "with open('TMB.txt') as f:\n",
    "    for line in f:\n",
    "        print(line, end='')\n",
    "    "
   ]
  },
  {
   "cell_type": "code",
   "execution_count": 2,
   "metadata": {
    "scrolled": true
   },
   "outputs": [
    {
     "name": "stdout",
     "output_type": "stream",
     "text": [
      "['The Tour du Mont Blanc or TMB is one of the most popular long-distance walks in Europe. \\n', 'It circles the Mont Blanc massif, covering a distance of roughly 170 kilometres (110 mi) with 10 kilometres (6.2 mi) of ascent/descent and passes through parts of Switzerland, Italyand France.\\n', 'It is considered one of the classic long-distance hiking trails. \\n', 'The circular route is normally walked in a counter-clockwise direction in 11 days. \\n', 'It is also the route of an annual mountain marathon in which the winner normally covers the entire distance in less than 24 hours. \\n', 'Usual start points are Les Houches in the Chamonix valley or Les Contamines in the Montjoie valley (in France), Courmayeur from the Italian side, and either Champex or a point near Martigny in Switzerland. \\n', 'The route passes through seven valleys around the Mont-Blanc massif, an anti-clockwise start in Chamonix would lead through the Chamonix (or Arve) valley, then Montjoie, Vallee des Glaciers, Italian Val Veni, Val Ferret, Swiss Val Ferret, and either the Arpette or Trient valley in Switzerland, dependent on the route chosen.\\n']\n"
     ]
    }
   ],
   "source": [
    "'''\n",
    "Note that we can also use the readlines() method to read the contents of the whole file in one go. \n",
    "The readlines() method returns a list with each element equal to a line in the file.  Of course, this assumes, that the\n",
    "file has multiple lines separated from each other by the newline character.\n",
    "'''\n",
    "with open('TMB.txt') as f:\n",
    "    lines = f.readlines()\n",
    "    print(lines)"
   ]
  },
  {
   "cell_type": "code",
   "execution_count": 4,
   "metadata": {},
   "outputs": [
    {
     "name": "stdout",
     "output_type": "stream",
     "text": [
      "The Tour du Mont Blanc or TMB is one of the most popular long-distance walks in Europe. \n",
      "\n"
     ]
    }
   ],
   "source": [
    "'''\n",
    "You can then use indexes as needed to extract portions of the file.\n",
    "'''\n",
    "print(lines[0])"
   ]
  },
  {
   "cell_type": "code",
   "execution_count": null,
   "metadata": {},
   "outputs": [],
   "source": []
  }
 ],
 "metadata": {
  "kernelspec": {
   "display_name": "Python 3",
   "language": "python",
   "name": "python3"
  },
  "language_info": {
   "codemirror_mode": {
    "name": "ipython",
    "version": 3
   },
   "file_extension": ".py",
   "mimetype": "text/x-python",
   "name": "python",
   "nbconvert_exporter": "python",
   "pygments_lexer": "ipython3",
   "version": "3.7.1"
  }
 },
 "nbformat": 4,
 "nbformat_minor": 2
}
