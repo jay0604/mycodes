{
 "cells": [
  {
   "cell_type": "code",
   "execution_count": null,
   "metadata": {
    "collapsed": true
   },
   "outputs": [],
   "source": [
    "'''\n",
    "In this notebook we revisit reading and writing from/to text files.\n",
    "'''"
   ]
  },
  {
   "cell_type": "code",
   "execution_count": null,
   "metadata": {
    "collapsed": true
   },
   "outputs": [],
   "source": [
    "'''\n",
    "This cell demonstrates the effects or writting to a text file without including the newline character \n",
    "at the end of each line.\n",
    "'''\n",
    "\n",
    "'''\n",
    "We will first write a few lines to a textfile without including the newline character\n",
    "'''\n",
    "f = open('out.txt', 'w')\n",
    "for i in range(11):\n",
    "    f.write('This is line ' + str(i)) # Note there is no newline character\n",
    "f.close() #close the file\n",
    "\n",
    "\n",
    "'''\n",
    "Read back the data and check how many lines have been printed out.  It can be seen that a single line is printed out.\n",
    "The value of 'count' also demonstrates that the 'for' loop is entered just one time.\n",
    "'''\n",
    "f = open('out.txt')\n",
    "count = 0\n",
    "for i in f:\n",
    "    count += 1\n",
    "    print(i)\n",
    "f.close()\n",
    "print('count = ', count)\n",
    "print('done')"
   ]
  },
  {
   "cell_type": "code",
   "execution_count": null,
   "metadata": {
    "collapsed": true
   },
   "outputs": [],
   "source": [
    "'''\n",
    "However, like we saw earlier, when the data is written to the text file with a newline character at the end,\n",
    "each line is displayed separately when the file is read.\n",
    "'''\n",
    "#Write to the text file\n",
    "f = open('out.txt', 'w')\n",
    "for i in range(11):\n",
    "    f.write('This is line ' + str(i) + '\\n') # Note the newline character\n",
    "f.close()\n",
    "\n",
    "#Read from the text file\n",
    "f = open('out.txt')\n",
    "count = 0\n",
    "for i in f:\n",
    "    count += 1\n",
    "    print(i)\n",
    "f.close()\n",
    "print('count = ', count) \n",
    "print('done')"
   ]
  },
  {
   "cell_type": "code",
   "execution_count": 3,
   "metadata": {},
   "outputs": [
    {
     "name": "stdout",
     "output_type": "stream",
     "text": [
      "['This is line 0\\n', 'This is line 1\\n', 'This is line 2\\n', 'This is line 3\\n', 'This is line 4\\n', 'This is line 5\\n', 'This is line 6\\n', 'This is line 7\\n', 'This is line 8\\n', 'This is line 9\\n', 'This is line 10\\n']\n",
      "This is line 0\n",
      "\n",
      "This is line 1\n",
      "\n",
      "This is line 2\n",
      "\n",
      "This is line 3\n",
      "\n",
      "This is line 4\n",
      "\n",
      "This is line 5\n",
      "\n",
      "This is line 6\n",
      "\n",
      "This is line 7\n",
      "\n",
      "This is line 8\n",
      "\n",
      "This is line 9\n",
      "\n",
      "This is line 10\n",
      "\n"
     ]
    }
   ],
   "source": [
    "'''\n",
    "The readlines() method offers another way for reading lines from a text file.  It returns a list where each line is an\n",
    "element in the list.\n",
    "'''\n",
    "#write to the file\n",
    "f = open('out.txt', 'w')\n",
    "for i in range(11):\n",
    "    f.write('This is line ' + str(i) + '\\n') # Note the newline character\n",
    "f.close()\n",
    "\n",
    "#read back from the file\n",
    "f = open('out.txt')\n",
    "lines = f.readlines()\n",
    "print(lines)\n",
    "for i in lines:\n",
    "    print(i)\n",
    "f.close()"
   ]
  },
  {
   "cell_type": "code",
   "execution_count": null,
   "metadata": {},
   "outputs": [],
   "source": []
  }
 ],
 "metadata": {
  "kernelspec": {
   "display_name": "Python 3",
   "language": "python",
   "name": "python3"
  },
  "language_info": {
   "codemirror_mode": {
    "name": "ipython",
    "version": 3
   },
   "file_extension": ".py",
   "mimetype": "text/x-python",
   "name": "python",
   "nbconvert_exporter": "python",
   "pygments_lexer": "ipython3",
   "version": "3.7.1"
  }
 },
 "nbformat": 4,
 "nbformat_minor": 2
}
