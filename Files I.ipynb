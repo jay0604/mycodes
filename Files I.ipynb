{
 "cells": [
  {
   "cell_type": "code",
   "execution_count": 2,
   "metadata": {},
   "outputs": [
    {
     "name": "stdout",
     "output_type": "stream",
     "text": [
      "done\n"
     ]
    }
   ],
   "source": [
    "'''\n",
    "In this notebook we will look at the Python syntax for writing data to a text file.\n",
    "The syntax for opening a file is\n",
    "handle = open(filename, mode)\n",
    "\n",
    "The open function returns  a file object (also called handle) that contains methods for working on the file.  \n",
    "In the code below, 'f' is the name for the file handle. 'out.txt' is the name of the file we are working with. \n",
    "The second  argument in the open function is the mode and is used to tell Python\n",
    "exactly what we plan to do with the file.  The value of 'w' for mode indicates that we want to open this file for writing.\n",
    "Note that if the file exists and contains data, all that data will be wiped out and fresh data will be written into the file.\n",
    "'''\n",
    "f = open('out.txt', 'w') # opened for reading\n",
    "\n",
    "'''\n",
    "To write to a text file, we use the write() method.  \n",
    "The argument to the write() method is a string value.  Hence if we wish to write any other type of data,\n",
    "it must be first converted to string.  \n",
    "'''\n",
    "for i in range(11):\n",
    "    f.write('This is line ' + str(i) + '\\n') # Note the newline character\n",
    "print('done')\n",
    "'''\n",
    "You must always close the file when you are done with it.\n",
    "In this course, I will treat it as an error if you do not do so, unless we use the 'with/as' construct that\n",
    "I will discuss later.\n",
    "\n",
    "To close a file use the close() method\n",
    "'''    \n",
    "f.close()"
   ]
  },
  {
   "cell_type": "code",
   "execution_count": 3,
   "metadata": {},
   "outputs": [
    {
     "ename": "TypeError",
     "evalue": "argument should be integer or None, not 'str'",
     "output_type": "error",
     "traceback": [
      "\u001b[0;31m---------------------------------------------------------------------------\u001b[0m",
      "\u001b[0;31mTypeError\u001b[0m                                 Traceback (most recent call last)",
      "\u001b[0;32m<ipython-input-3-b208263ab50f>\u001b[0m in \u001b[0;36m<module>\u001b[0;34m\u001b[0m\n\u001b[1;32m      8\u001b[0m \u001b[0;32mfor\u001b[0m \u001b[0mi\u001b[0m \u001b[0;32min\u001b[0m \u001b[0mrange\u001b[0m\u001b[0;34m(\u001b[0m\u001b[0;36m11\u001b[0m\u001b[0;34m)\u001b[0m\u001b[0;34m:\u001b[0m\u001b[0;34m\u001b[0m\u001b[0;34m\u001b[0m\u001b[0m\n\u001b[1;32m      9\u001b[0m      \u001b[0;31m# This line will write the string to the file and also print out the number of characters that were written\u001b[0m\u001b[0;34m\u001b[0m\u001b[0;34m\u001b[0m\u001b[0;34m\u001b[0m\u001b[0m\n\u001b[0;32m---> 10\u001b[0;31m     \u001b[0mprint\u001b[0m\u001b[0;34m(\u001b[0m\u001b[0mf\u001b[0m\u001b[0;34m.\u001b[0m\u001b[0mread\u001b[0m\u001b[0;34m(\u001b[0m\u001b[0;34m'This is line '\u001b[0m \u001b[0;34m+\u001b[0m \u001b[0mstr\u001b[0m\u001b[0;34m(\u001b[0m\u001b[0mi\u001b[0m\u001b[0;34m)\u001b[0m \u001b[0;34m+\u001b[0m \u001b[0;34m'\\n'\u001b[0m\u001b[0;34m)\u001b[0m\u001b[0;34m)\u001b[0m\u001b[0;34m\u001b[0m\u001b[0;34m\u001b[0m\u001b[0m\n\u001b[0m\u001b[1;32m     11\u001b[0m \u001b[0mprint\u001b[0m\u001b[0;34m(\u001b[0m\u001b[0;34m'done'\u001b[0m\u001b[0;34m)\u001b[0m\u001b[0;34m\u001b[0m\u001b[0;34m\u001b[0m\u001b[0m\n\u001b[1;32m     12\u001b[0m \u001b[0;34m\u001b[0m\u001b[0m\n",
      "\u001b[0;31mTypeError\u001b[0m: argument should be integer or None, not 'str'"
     ]
    }
   ],
   "source": [
    "'''\n",
    "The write() method writes the string argument to the file and returns the number of characters written.\n",
    "In the following example, we write the string to the file while simultaneously printing out the number of \n",
    "characters that were written\n",
    "'''\n",
    "f = open('out.txt', 'r') # opened for reading\n",
    "\n",
    "for i in range(11):\n",
    "     # This line will write the string to the file and also print out the number of characters that were written\n",
    "    print(f.read('This is line ' + str(i) + '\\n')) \n",
    "print('done')\n",
    "  \n",
    "f.close()"
   ]
  },
  {
   "cell_type": "code",
   "execution_count": null,
   "metadata": {},
   "outputs": [],
   "source": []
  }
 ],
 "metadata": {
  "kernelspec": {
   "display_name": "Python 3",
   "language": "python",
   "name": "python3"
  },
  "language_info": {
   "codemirror_mode": {
    "name": "ipython",
    "version": 3
   },
   "file_extension": ".py",
   "mimetype": "text/x-python",
   "name": "python",
   "nbconvert_exporter": "python",
   "pygments_lexer": "ipython3",
   "version": "3.7.1"
  }
 },
 "nbformat": 4,
 "nbformat_minor": 2
}
